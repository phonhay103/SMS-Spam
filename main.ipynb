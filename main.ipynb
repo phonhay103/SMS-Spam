{
 "metadata": {
  "language_info": {
   "codemirror_mode": {
    "name": "ipython",
    "version": 3
   },
   "file_extension": ".py",
   "mimetype": "text/x-python",
   "name": "python",
   "nbconvert_exporter": "python",
   "pygments_lexer": "ipython3",
   "version": "3.9.2"
  },
  "orig_nbformat": 4,
  "kernelspec": {
   "name": "python392jvsc74a57bd08565c5010a5ae07130513b43ae76e4c4f5722076e51230ae7e693b6860547c36",
   "display_name": "Python 3.9.2 64-bit ('nhay103': venv)",
   "language": "python"
  },
  "interpreter": {
   "hash": "8565c5010a5ae07130513b43ae76e4c4f5722076e51230ae7e693b6860547c36"
  }
 },
 "nbformat": 4,
 "nbformat_minor": 2,
 "cells": [
  {
   "cell_type": "code",
   "execution_count": 1,
   "metadata": {},
   "outputs": [],
   "source": [
    "from preprocessing import *\n",
    "from utils import *\n",
    "from model import RNN_Dense, RNN_TimeDis\n",
    "from tensorflow.keras.preprocessing.text import Tokenizer\n",
    "from tensorflow.keras.preprocessing.sequence import pad_sequences"
   ]
  },
  {
   "cell_type": "code",
   "execution_count": null,
   "metadata": {},
   "outputs": [],
   "source": [
    "texts, labels = load_data()\n",
    "texts = preprocessing_text(texts)\n",
    "labels = preprocessing_label(labels)"
   ]
  },
  {
   "cell_type": "code",
   "execution_count": null,
   "metadata": {},
   "outputs": [],
   "source": [
    "tokenizer = Tokenizer(num_words=MAX_WORD, oov_token='?')\n",
    "tokenizer.fit_on_texts(texts)\n",
    "texts = tokenizer.texts_to_sequences(texts)\n",
    "texts = pad_sequences(sequences, maxlen=MAX_LEN)"
   ]
  },
  {
   "cell_type": "code",
   "execution_count": null,
   "metadata": {},
   "outputs": [],
   "source": [
    "model = RNN_Dense()\n",
    "model.compile(optimizer='adam', loss='binary_crossentropy', metrics=['acc'])\n",
    "\n",
    "history = model.fit(\n",
    "    texts, labels,\n",
    "    epochs=10,\n",
    "    batch_size=128,\n",
    "    validation_split=0.2,\n",
    "    verbose=2\n",
    ")"
   ]
  },
  {
   "cell_type": "code",
   "execution_count": null,
   "metadata": {},
   "outputs": [],
   "source": [
    "sms = [\"Congratulations! Claim your bitcoins!\"]\n",
    "pre_sms = preprocessing_text(sms)\n",
    "seq = tokenizer.texts_to_sequences(pre_sms)\n",
    "pad = pad_sequences(seq, maxlen=MAX_LEN)\n",
    "model.predict(pad) # 1 ~ spam"
   ]
  },
  {
   "cell_type": "code",
   "execution_count": null,
   "metadata": {},
   "outputs": [],
   "source": []
  }
 ]
}