{
 "metadata": {
  "language_info": {
   "codemirror_mode": {
    "name": "ipython",
    "version": 3
   },
   "file_extension": ".py",
   "mimetype": "text/x-python",
   "name": "python",
   "nbconvert_exporter": "python",
   "pygments_lexer": "ipython3",
   "version": "3.9.2"
  },
  "orig_nbformat": 4,
  "kernelspec": {
   "name": "python3",
   "display_name": "Python 3.9.2 64-bit ('nhay103': venv)"
  },
  "interpreter": {
   "hash": "8565c5010a5ae07130513b43ae76e4c4f5722076e51230ae7e693b6860547c36"
  }
 },
 "nbformat": 4,
 "nbformat_minor": 2,
 "cells": [
  {
   "cell_type": "code",
   "execution_count": 6,
   "metadata": {},
   "outputs": [],
   "source": [
    "from preprocessing import *\n",
    "from utils import *\n",
    "from model import RNN_Dense, RNN_TimeDis"
   ]
  },
  {
   "cell_type": "code",
   "execution_count": 7,
   "metadata": {},
   "outputs": [
    {
     "output_type": "stream",
     "name": "stderr",
     "text": [
      "[nltk_data] Downloading package stopwords to\n[nltk_data]     C:\\Users\\Nhay103\\AppData\\Roaming\\nltk_data...\n[nltk_data]   Package stopwords is already up-to-date!\n"
     ]
    }
   ],
   "source": [
    "texts, labels = load_data()\n",
    "texts = preprocessing_text(texts)\n",
    "labels = preprocessing_label(labels)"
   ]
  },
  {
   "cell_type": "code",
   "execution_count": 8,
   "metadata": {},
   "outputs": [],
   "source": [
    "tokenizer = Tokenizer(num_words=MAX_WORD, oov_token='?')\n",
    "tokenizer.fit_on_texts(texts)\n",
    "texts = tokenizer.texts_to_sequences(texts)\n",
    "texts = pad_sequences(sequences, maxlen=MAX_LEN)"
   ]
  },
  {
   "cell_type": "code",
   "execution_count": 9,
   "metadata": {},
   "outputs": [
    {
     "output_type": "stream",
     "name": "stdout",
     "text": [
      "Epoch 1/10\n",
      "35/35 - 3s - loss: 0.4033 - acc: 0.8609 - val_loss: 0.1962 - val_acc: 0.9157\n",
      "Epoch 2/10\n",
      "35/35 - 1s - loss: 0.1587 - acc: 0.9632 - val_loss: 0.0777 - val_acc: 0.9794\n",
      "Epoch 3/10\n",
      "35/35 - 1s - loss: 0.0648 - acc: 0.9843 - val_loss: 0.0664 - val_acc: 0.9803\n",
      "Epoch 4/10\n",
      "35/35 - 1s - loss: 0.0450 - acc: 0.9899 - val_loss: 0.0608 - val_acc: 0.9803\n",
      "Epoch 5/10\n",
      "35/35 - 1s - loss: 0.0258 - acc: 0.9951 - val_loss: 0.0729 - val_acc: 0.9812\n",
      "Epoch 6/10\n",
      "35/35 - 1s - loss: 0.0196 - acc: 0.9964 - val_loss: 0.0778 - val_acc: 0.9821\n",
      "Epoch 7/10\n",
      "35/35 - 1s - loss: 0.0156 - acc: 0.9971 - val_loss: 0.0822 - val_acc: 0.9803\n",
      "Epoch 8/10\n",
      "35/35 - 1s - loss: 0.0146 - acc: 0.9978 - val_loss: 0.0899 - val_acc: 0.9785\n",
      "Epoch 9/10\n",
      "35/35 - 1s - loss: 0.2826 - acc: 0.9307 - val_loss: 0.1817 - val_acc: 0.9408\n",
      "Epoch 10/10\n",
      "35/35 - 1s - loss: 0.1140 - acc: 0.9652 - val_loss: 0.1338 - val_acc: 0.9561\n"
     ]
    }
   ],
   "source": [
    "model = RNN_Dense()\n",
    "model.compile(optimizer='adam', loss='binary_crossentropy', metrics=['acc'])\n",
    "\n",
    "history = model.fit(\n",
    "    texts, labels,\n",
    "    epochs=10,\n",
    "    batch_size=128,\n",
    "    validation_split=0.2,\n",
    "    verbose=2\n",
    ")"
   ]
  },
  {
   "cell_type": "code",
   "execution_count": 28,
   "metadata": {},
   "outputs": [
    {
     "output_type": "stream",
     "name": "stderr",
     "text": [
      "[nltk_data] Downloading package stopwords to\n[nltk_data]     C:\\Users\\Nhay103\\AppData\\Roaming\\nltk_data...\n[nltk_data]   Package stopwords is already up-to-date!\n"
     ]
    },
    {
     "output_type": "execute_result",
     "data": {
      "text/plain": [
       "array([[0.7585787]], dtype=float32)"
      ]
     },
     "metadata": {},
     "execution_count": 28
    }
   ],
   "source": [
    "sms = [\"Congratulations! Claim your bitcoins!\"]\n",
    "pre_sms = preprocessing_text(sms)\n",
    "seq = tokenizer.texts_to_sequences(pre_sms)\n",
    "pad = pad_sequences(seq, maxlen=MAX_LEN)\n",
    "model.predict(pad) # 1 ~ spam"
   ]
  },
  {
   "cell_type": "code",
   "execution_count": null,
   "metadata": {},
   "outputs": [],
   "source": []
  }
 ]
}